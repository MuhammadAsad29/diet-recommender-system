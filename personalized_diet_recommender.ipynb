{
 "cells": [
  {
   "cell_type": "code",
   "execution_count": 11,
   "id": "fa75a8e7",
   "metadata": {},
   "outputs": [
    {
     "name": "stdout",
     "output_type": "stream",
     "text": [
      "Requirement already satisfied: gradio in d:\\anaconda3\\lib\\site-packages (5.32.0)\n",
      "Requirement already satisfied: ipywidgets in d:\\anaconda3\\lib\\site-packages (8.1.5)\n",
      "Requirement already satisfied: aiofiles<25.0,>=22.0 in d:\\anaconda3\\lib\\site-packages (from gradio) (22.1.0)\n",
      "Requirement already satisfied: anyio<5.0,>=3.0 in d:\\anaconda3\\lib\\site-packages (from gradio) (4.7.0)\n",
      "Requirement already satisfied: fastapi<1.0,>=0.115.2 in d:\\anaconda3\\lib\\site-packages (from gradio) (0.115.12)\n",
      "Requirement already satisfied: ffmpy in d:\\anaconda3\\lib\\site-packages (from gradio) (0.5.0)\n",
      "Requirement already satisfied: gradio-client==1.10.2 in d:\\anaconda3\\lib\\site-packages (from gradio) (1.10.2)\n",
      "Requirement already satisfied: groovy~=0.1 in d:\\anaconda3\\lib\\site-packages (from gradio) (0.1.2)\n",
      "Requirement already satisfied: httpx>=0.24.1 in d:\\anaconda3\\lib\\site-packages (from gradio) (0.28.1)\n",
      "Requirement already satisfied: huggingface-hub>=0.28.1 in d:\\anaconda3\\lib\\site-packages (from gradio) (0.32.3)\n",
      "Requirement already satisfied: jinja2<4.0 in d:\\anaconda3\\lib\\site-packages (from gradio) (3.1.6)\n",
      "Requirement already satisfied: markupsafe<4.0,>=2.0 in d:\\anaconda3\\lib\\site-packages (from gradio) (3.0.2)\n",
      "Requirement already satisfied: numpy<3.0,>=1.0 in d:\\anaconda3\\lib\\site-packages (from gradio) (1.26.4)\n",
      "Requirement already satisfied: orjson~=3.0 in d:\\anaconda3\\lib\\site-packages (from gradio) (3.10.18)\n",
      "Requirement already satisfied: packaging in d:\\anaconda3\\lib\\site-packages (from gradio) (24.2)\n",
      "Requirement already satisfied: pandas<3.0,>=1.0 in d:\\anaconda3\\lib\\site-packages (from gradio) (2.2.3)\n",
      "Requirement already satisfied: pillow<12.0,>=8.0 in d:\\anaconda3\\lib\\site-packages (from gradio) (11.0.0)\n",
      "Requirement already satisfied: pydantic<2.12,>=2.0 in d:\\anaconda3\\lib\\site-packages (from gradio) (2.10.3)\n",
      "Requirement already satisfied: pydub in d:\\anaconda3\\lib\\site-packages (from gradio) (0.25.1)\n",
      "Requirement already satisfied: python-multipart>=0.0.18 in d:\\anaconda3\\lib\\site-packages (from gradio) (0.0.20)\n",
      "Requirement already satisfied: pyyaml<7.0,>=5.0 in d:\\anaconda3\\lib\\site-packages (from gradio) (6.0.2)\n",
      "Requirement already satisfied: ruff>=0.9.3 in d:\\anaconda3\\lib\\site-packages (from gradio) (0.11.12)\n",
      "Requirement already satisfied: safehttpx<0.2.0,>=0.1.6 in d:\\anaconda3\\lib\\site-packages (from gradio) (0.1.6)\n",
      "Requirement already satisfied: semantic-version~=2.0 in d:\\anaconda3\\lib\\site-packages (from gradio) (2.10.0)\n",
      "Requirement already satisfied: starlette<1.0,>=0.40.0 in d:\\anaconda3\\lib\\site-packages (from gradio) (0.46.2)\n",
      "Requirement already satisfied: tomlkit<0.14.0,>=0.12.0 in d:\\anaconda3\\lib\\site-packages (from gradio) (0.13.2)\n",
      "Requirement already satisfied: typer<1.0,>=0.12 in d:\\anaconda3\\lib\\site-packages (from gradio) (0.16.0)\n",
      "Requirement already satisfied: typing-extensions~=4.0 in d:\\anaconda3\\lib\\site-packages (from gradio) (4.13.2)\n",
      "Requirement already satisfied: uvicorn>=0.14.0 in d:\\anaconda3\\lib\\site-packages (from gradio) (0.34.2)\n",
      "Requirement already satisfied: fsspec in d:\\anaconda3\\lib\\site-packages (from gradio-client==1.10.2->gradio) (2025.3.2)\n",
      "Requirement already satisfied: websockets<16.0,>=10.0 in d:\\anaconda3\\lib\\site-packages (from gradio-client==1.10.2->gradio) (15.0.1)\n",
      "Requirement already satisfied: idna>=2.8 in d:\\anaconda3\\lib\\site-packages (from anyio<5.0,>=3.0->gradio) (3.7)\n",
      "Requirement already satisfied: sniffio>=1.1 in d:\\anaconda3\\lib\\site-packages (from anyio<5.0,>=3.0->gradio) (1.3.0)\n",
      "Requirement already satisfied: python-dateutil>=2.8.2 in d:\\anaconda3\\lib\\site-packages (from pandas<3.0,>=1.0->gradio) (2.9.0.post0)\n",
      "Requirement already satisfied: pytz>=2020.1 in d:\\anaconda3\\lib\\site-packages (from pandas<3.0,>=1.0->gradio) (2024.1)\n",
      "Requirement already satisfied: tzdata>=2022.7 in d:\\anaconda3\\lib\\site-packages (from pandas<3.0,>=1.0->gradio) (2025.2)\n",
      "Requirement already satisfied: annotated-types>=0.6.0 in d:\\anaconda3\\lib\\site-packages (from pydantic<2.12,>=2.0->gradio) (0.6.0)\n",
      "Requirement already satisfied: pydantic-core==2.27.1 in d:\\anaconda3\\lib\\site-packages (from pydantic<2.12,>=2.0->gradio) (2.27.1)\n",
      "Requirement already satisfied: click>=8.0.0 in d:\\anaconda3\\lib\\site-packages (from typer<1.0,>=0.12->gradio) (8.1.8)\n",
      "Requirement already satisfied: shellingham>=1.3.0 in d:\\anaconda3\\lib\\site-packages (from typer<1.0,>=0.12->gradio) (1.5.0)\n",
      "Requirement already satisfied: rich>=10.11.0 in d:\\anaconda3\\lib\\site-packages (from typer<1.0,>=0.12->gradio) (13.9.4)\n",
      "Requirement already satisfied: comm>=0.1.3 in d:\\anaconda3\\lib\\site-packages (from ipywidgets) (0.2.1)\n",
      "Requirement already satisfied: ipython>=6.1.0 in d:\\anaconda3\\lib\\site-packages (from ipywidgets) (8.30.0)\n",
      "Requirement already satisfied: traitlets>=4.3.1 in d:\\anaconda3\\lib\\site-packages (from ipywidgets) (5.14.3)\n",
      "Requirement already satisfied: widgetsnbextension~=4.0.12 in d:\\anaconda3\\lib\\site-packages (from ipywidgets) (4.0.13)\n",
      "Requirement already satisfied: jupyterlab-widgets~=3.0.12 in d:\\anaconda3\\lib\\site-packages (from ipywidgets) (3.0.13)\n",
      "Requirement already satisfied: colorama in d:\\anaconda3\\lib\\site-packages (from click>=8.0.0->typer<1.0,>=0.12->gradio) (0.4.6)\n",
      "Requirement already satisfied: certifi in d:\\anaconda3\\lib\\site-packages (from httpx>=0.24.1->gradio) (2025.6.15)\n",
      "Requirement already satisfied: httpcore==1.* in d:\\anaconda3\\lib\\site-packages (from httpx>=0.24.1->gradio) (1.0.9)\n",
      "Requirement already satisfied: h11>=0.16 in d:\\anaconda3\\lib\\site-packages (from httpcore==1.*->httpx>=0.24.1->gradio) (0.16.0)\n",
      "Requirement already satisfied: filelock in d:\\anaconda3\\lib\\site-packages (from huggingface-hub>=0.28.1->gradio) (3.17.0)\n",
      "Requirement already satisfied: requests in d:\\anaconda3\\lib\\site-packages (from huggingface-hub>=0.28.1->gradio) (2.32.4)\n",
      "Requirement already satisfied: tqdm>=4.42.1 in d:\\anaconda3\\lib\\site-packages (from huggingface-hub>=0.28.1->gradio) (4.67.1)\n",
      "Requirement already satisfied: decorator in d:\\anaconda3\\lib\\site-packages (from ipython>=6.1.0->ipywidgets) (5.1.1)\n",
      "Requirement already satisfied: jedi>=0.16 in d:\\anaconda3\\lib\\site-packages (from ipython>=6.1.0->ipywidgets) (0.19.2)\n",
      "Requirement already satisfied: matplotlib-inline in d:\\anaconda3\\lib\\site-packages (from ipython>=6.1.0->ipywidgets) (0.1.6)\n",
      "Requirement already satisfied: prompt-toolkit<3.1.0,>=3.0.41 in d:\\anaconda3\\lib\\site-packages (from ipython>=6.1.0->ipywidgets) (3.0.43)\n",
      "Requirement already satisfied: pygments>=2.4.0 in d:\\anaconda3\\lib\\site-packages (from ipython>=6.1.0->ipywidgets) (2.19.1)\n",
      "Requirement already satisfied: stack-data in d:\\anaconda3\\lib\\site-packages (from ipython>=6.1.0->ipywidgets) (0.2.0)\n",
      "Requirement already satisfied: wcwidth in d:\\anaconda3\\lib\\site-packages (from prompt-toolkit<3.1.0,>=3.0.41->ipython>=6.1.0->ipywidgets) (0.2.5)\n",
      "Requirement already satisfied: parso<0.9.0,>=0.8.4 in d:\\anaconda3\\lib\\site-packages (from jedi>=0.16->ipython>=6.1.0->ipywidgets) (0.8.4)\n",
      "Requirement already satisfied: six>=1.5 in d:\\anaconda3\\lib\\site-packages (from python-dateutil>=2.8.2->pandas<3.0,>=1.0->gradio) (1.17.0)\n",
      "Requirement already satisfied: markdown-it-py>=2.2.0 in d:\\anaconda3\\lib\\site-packages (from rich>=10.11.0->typer<1.0,>=0.12->gradio) (2.2.0)\n",
      "Requirement already satisfied: mdurl~=0.1 in d:\\anaconda3\\lib\\site-packages (from markdown-it-py>=2.2.0->rich>=10.11.0->typer<1.0,>=0.12->gradio) (0.1.0)\n",
      "Requirement already satisfied: charset_normalizer<4,>=2 in d:\\anaconda3\\lib\\site-packages (from requests->huggingface-hub>=0.28.1->gradio) (3.3.2)\n",
      "Requirement already satisfied: urllib3<3,>=1.21.1 in d:\\anaconda3\\lib\\site-packages (from requests->huggingface-hub>=0.28.1->gradio) (1.26.20)\n",
      "Requirement already satisfied: executing in d:\\anaconda3\\lib\\site-packages (from stack-data->ipython>=6.1.0->ipywidgets) (0.8.3)\n",
      "Requirement already satisfied: asttokens in d:\\anaconda3\\lib\\site-packages (from stack-data->ipython>=6.1.0->ipywidgets) (3.0.0)\n",
      "Requirement already satisfied: pure-eval in d:\\anaconda3\\lib\\site-packages (from stack-data->ipython>=6.1.0->ipywidgets) (0.2.2)\n"
     ]
    }
   ],
   "source": [
    "!pip install gradio ipywidgets\n"
   ]
  },
  {
   "cell_type": "code",
   "execution_count": 12,
   "id": "613afd26",
   "metadata": {},
   "outputs": [],
   "source": [
    "from typing import List, Dict\n",
    "from dataclasses import dataclass\n",
    "import json\n",
    "import random\n",
    "import gradio as gr\n"
   ]
  },
  {
   "cell_type": "code",
   "execution_count": 13,
   "id": "d90d65fc",
   "metadata": {},
   "outputs": [],
   "source": [
    "@dataclass\n",
    "class UserProfile:\n",
    "    name: str\n",
    "    age: int\n",
    "    weight: float\n",
    "    height: float\n",
    "    gender: str\n",
    "    activity_level: str\n",
    "    goal: str\n",
    "    restrictions: List[str]\n",
    "    conditions: List[str]\n"
   ]
  },
  {
   "cell_type": "code",
   "execution_count": 14,
   "id": "79e810bf",
   "metadata": {},
   "outputs": [],
   "source": [
    "nutritional_db = {\n",
    "    \"Oatmeal\": {\"calories\": 150, \"protein\": 5, \"carbs\": 27, \"fat\": 3, \"tags\": [\"vegan\", \"vegetarian\"]},\n",
    "    \"Grilled Chicken\": {\"calories\": 250, \"protein\": 30, \"carbs\": 0, \"fat\": 6, \"tags\": [\"keto\"]},\n",
    "    \"Quinoa Salad\": {\"calories\": 220, \"protein\": 8, \"carbs\": 30, \"fat\": 7, \"tags\": [\"vegetarian\", \"vegan\"]},\n",
    "    \"Lentils\": {\"calories\": 180, \"protein\": 12, \"carbs\": 32, \"fat\": 0.5, \"tags\": [\"vegan\"]},\n",
    "    \"Tofu\": {\"calories\": 200, \"protein\": 20, \"carbs\": 5, \"fat\": 12, \"tags\": [\"vegan\"]},\n",
    "    \"Salmon\": {\"calories\": 300, \"protein\": 34, \"carbs\": 0, \"fat\": 20, \"tags\": []},\n",
    "    \"Boiled Eggs\": {\"calories\": 78, \"protein\": 6, \"carbs\": 0.6, \"fat\": 5, \"tags\": [\"keto\"]},\n",
    "    \"Broccoli\": {\"calories\": 55, \"protein\": 3.7, \"carbs\": 11, \"fat\": 0.3, \"tags\": [\"vegan\", \"vegetarian\"]},\n",
    "    \"Almonds\": {\"calories\": 160, \"protein\": 6, \"carbs\": 6, \"fat\": 14, \"tags\": [\"vegan\", \"vegetarian\"]},\n",
    "    \"Greek Yogurt\": {\"calories\": 100, \"protein\": 10, \"carbs\": 4, \"fat\": 5, \"tags\": [\"vegetarian\"]}\n",
    "}\n"
   ]
  },
  {
   "cell_type": "code",
   "execution_count": 15,
   "id": "7f2586e9",
   "metadata": {},
   "outputs": [],
   "source": [
    "def calculate_bmr(user: UserProfile) -> float:\n",
    "    if user.gender.lower() == 'male':\n",
    "        bmr = 10 * user.weight + 6.25 * user.height - 5 * user.age + 5\n",
    "    else:\n",
    "        bmr = 10 * user.weight + 6.25 * user.height - 5 * user.age - 161\n",
    "    return bmr\n"
   ]
  },
  {
   "cell_type": "code",
   "execution_count": 16,
   "id": "2ee0acb5",
   "metadata": {},
   "outputs": [],
   "source": [
    "def calculate_daily_calories(user: UserProfile) -> float:\n",
    "    activity_multipliers = {\n",
    "        \"sedentary\": 1.2,\n",
    "        \"light\": 1.375,\n",
    "        \"moderate\": 1.55,\n",
    "        \"active\": 1.725\n",
    "    }\n",
    "    multiplier = activity_multipliers.get(user.activity_level.lower(), 1.2)\n",
    "    base_calories = calculate_bmr(user) * multiplier\n",
    "    if user.goal.lower() == \"weight loss\":\n",
    "        return base_calories - 500\n",
    "    elif user.goal.lower() == \"muscle gain\":\n",
    "        return base_calories + 500\n",
    "    else:\n",
    "        return base_calories\n"
   ]
  },
  {
   "cell_type": "code",
   "execution_count": 17,
   "id": "511e7e97",
   "metadata": {},
   "outputs": [],
   "source": [
    "def filter_foods(user: UserProfile) -> List[str]:\n",
    "    allowed_foods = []\n",
    "    for food, details in nutritional_db.items():\n",
    "        if user.restrictions and not all(r.lower() in details['tags'] for r in user.restrictions):\n",
    "            continue\n",
    "        if \"diabetes\" in [c.lower() for c in user.conditions] and nutritional_db[food][\"carbs\"] > 25:\n",
    "            continue\n",
    "        if \"heart\" in [c.lower() for c in user.conditions] and nutritional_db[food][\"fat\"] > 15:\n",
    "            continue\n",
    "        allowed_foods.append(food)\n",
    "    return allowed_foods\n"
   ]
  },
  {
   "cell_type": "code",
   "execution_count": 18,
   "id": "53da0a62",
   "metadata": {},
   "outputs": [],
   "source": [
    "def generate_meal_plan(user: UserProfile) -> Dict[str, Dict[str, float]]:\n",
    "    daily_calories = calculate_daily_calories(user)\n",
    "    allowed_foods = filter_foods(user)\n",
    "    meal_plan = {}\n",
    "    total = {\"calories\": 0.0, \"protein\": 0.0, \"carbs\": 0.0, \"fat\": 0.0}\n",
    "\n",
    "    attempts = 0\n",
    "    max_attempts = 100\n",
    "\n",
    "    while total['calories'] < daily_calories - 100 and allowed_foods and attempts < max_attempts:\n",
    "        food = random.choice(allowed_foods)\n",
    "        attempts += 1\n",
    "        if food in meal_plan:\n",
    "            continue\n",
    "        meal_plan[food] = nutritional_db[food]\n",
    "        for key in total:\n",
    "            total[key] += float(nutritional_db[food][key])\n",
    "\n",
    "    return {\"meals\": meal_plan, \"totals\": total, \"goal\": daily_calories}\n"
   ]
  },
  {
   "cell_type": "code",
   "execution_count": 19,
   "id": "9a50280a",
   "metadata": {},
   "outputs": [],
   "source": [
    "def create_diet_plan(user_data: dict) -> Dict:\n",
    "    user = UserProfile(**user_data)\n",
    "    return generate_meal_plan(user)\n"
   ]
  },
  {
   "cell_type": "code",
   "execution_count": 20,
   "id": "e47ef42b",
   "metadata": {},
   "outputs": [
    {
     "name": "stdout",
     "output_type": "stream",
     "text": [
      "* Running on local URL:  http://127.0.0.1:7862\n",
      "* Running on public URL: https://bc51b6afb24bb10a71.gradio.live\n",
      "\n",
      "This share link expires in 1 week. For free permanent hosting and GPU upgrades, run `gradio deploy` from the terminal in the working directory to deploy to Hugging Face Spaces (https://huggingface.co/spaces)\n"
     ]
    },
    {
     "data": {
      "text/html": [
       "<div><iframe src=\"https://bc51b6afb24bb10a71.gradio.live\" width=\"100%\" height=\"500\" allow=\"autoplay; camera; microphone; clipboard-read; clipboard-write;\" frameborder=\"0\" allowfullscreen></iframe></div>"
      ],
      "text/plain": [
       "<IPython.core.display.HTML object>"
      ]
     },
     "metadata": {},
     "output_type": "display_data"
    }
   ],
   "source": [
    "def gradio_interface(name, age, weight, height, gender, activity_level, goal, restrictions, conditions):\n",
    "    user_data = {\n",
    "        \"name\": name,\n",
    "        \"age\": int(age),\n",
    "        \"weight\": float(weight),\n",
    "        \"height\": float(height),\n",
    "        \"gender\": gender,\n",
    "        \"activity_level\": activity_level,\n",
    "        \"goal\": goal,\n",
    "        \"restrictions\": [r.strip() for r in restrictions.split(',') if r.strip()],\n",
    "        \"conditions\": [c.strip() for c in conditions.split(',') if c.strip()]\n",
    "    }\n",
    "    result = create_diet_plan(user_data)\n",
    "    return json.dumps(result, indent=2)\n",
    "\n",
    "demo = gr.Interface(\n",
    "    fn=gradio_interface,\n",
    "    inputs=[\n",
    "        gr.Textbox(label=\"Name\"),\n",
    "        gr.Number(label=\"Age\"),\n",
    "        gr.Number(label=\"Weight (kg)\"),\n",
    "        gr.Number(label=\"Height (cm)\"),\n",
    "        gr.Radio([\"Male\", \"Female\"], label=\"Gender\"),\n",
    "        gr.Dropdown([\"Sedentary\", \"Light\", \"Moderate\", \"Active\"], label=\"Activity Level\"),\n",
    "        gr.Dropdown([\"Weight Loss\", \"Maintain\", \"Muscle Gain\"], label=\"Fitness Goal\"),\n",
    "        gr.Textbox(label=\"Dietary Restrictions (comma-separated)\"),\n",
    "        gr.Textbox(label=\"Health Conditions (comma-separated)\")\n",
    "    ],\n",
    "    outputs=gr.Textbox(label=\"Personalized Diet Plan\"),\n",
    "    title=\"AI Diet Assistant\",\n",
    "    description=\"Get a personalized diet plan based on your health and goals.\"\n",
    ")\n",
    "\n",
    "if __name__ == \"__main__\":\n",
    "    demo.launch(share=True)\n"
   ]
  }
 ],
 "metadata": {
  "kernelspec": {
   "display_name": "Python (CIFAR10)",
   "language": "python",
   "name": "cifar10"
  },
  "language_info": {
   "codemirror_mode": {
    "name": "ipython",
    "version": 3
   },
   "file_extension": ".py",
   "mimetype": "text/x-python",
   "name": "python",
   "nbconvert_exporter": "python",
   "pygments_lexer": "ipython3",
   "version": "3.12.10"
  }
 },
 "nbformat": 4,
 "nbformat_minor": 5
}
